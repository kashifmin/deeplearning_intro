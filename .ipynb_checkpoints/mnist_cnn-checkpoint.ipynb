{
 "cells": [
  {
   "cell_type": "code",
   "execution_count": 1,
   "metadata": {},
   "outputs": [
    {
     "name": "stderr",
     "output_type": "stream",
     "text": [
      "/usr/local/lib/python3.5/dist-packages/h5py/__init__.py:34: FutureWarning: Conversion of the second argument of issubdtype from `float` to `np.floating` is deprecated. In future, it will be treated as `np.float64 == np.dtype(float).type`.\n",
      "  from ._conv import register_converters as _register_converters\n",
      "Using TensorFlow backend.\n"
     ]
    }
   ],
   "source": [
    "from keras.datasets.fashion_mnist import load_data\n",
    "from keras.models import Sequential\n",
    "from keras.layers import Dense, Conv2D, Softmax, Input, Reshape, Dropout, Flatten, MaxPooling2D\n",
    "from keras.utils import to_categorical"
   ]
  },
  {
   "cell_type": "code",
   "execution_count": 2,
   "metadata": {},
   "outputs": [],
   "source": [
    "(x_train, y_train), (x_test, y_test) = load_data()"
   ]
  },
  {
   "cell_type": "code",
   "execution_count": 3,
   "metadata": {},
   "outputs": [
    {
     "name": "stdout",
     "output_type": "stream",
     "text": [
      "(60000, 28, 28) (60000,)\n",
      "(60000, 10)\n"
     ]
    }
   ],
   "source": [
    "print(x_train.shape, y_train.shape)\n",
    "y_train, y_test = to_categorical(y_train, 10), to_categorical(y_test, 10)\n",
    "print(y_train.shape)"
   ]
  },
  {
   "cell_type": "code",
   "execution_count": 9,
   "metadata": {},
   "outputs": [],
   "source": [
    "model = Sequential()\n",
    "model.add(Reshape(target_shape=(28, 28, 1), input_shape=x_train.shape[1:]))\n",
    "model.add(Conv2D(filters=32, kernel_size=3, padding='same', activation='relu'))\n",
    "model.add(MaxPooling2D(padding='same'))\n",
    "model.add(Conv2D(filters=32, kernel_size=3, padding='same', activation='relu'))\n",
    "model.add(MaxPooling2D(padding='same'))\n",
    "model.add(Flatten())\n",
    "model.add(Dense(units=128, activation='relu'))\n",
    "# model.add(Dropout(0.4))\n",
    "model.add(Dense(units=10))\n",
    "model.add(Softmax())"
   ]
  },
  {
   "cell_type": "code",
   "execution_count": 10,
   "metadata": {},
   "outputs": [
    {
     "name": "stdout",
     "output_type": "stream",
     "text": [
      "_________________________________________________________________\n",
      "Layer (type)                 Output Shape              Param #   \n",
      "=================================================================\n",
      "reshape_2 (Reshape)          (None, 28, 28, 1)         0         \n",
      "_________________________________________________________________\n",
      "conv2d_3 (Conv2D)            (None, 28, 28, 32)        320       \n",
      "_________________________________________________________________\n",
      "max_pooling2d_3 (MaxPooling2 (None, 14, 14, 32)        0         \n",
      "_________________________________________________________________\n",
      "conv2d_4 (Conv2D)            (None, 14, 14, 32)        9248      \n",
      "_________________________________________________________________\n",
      "max_pooling2d_4 (MaxPooling2 (None, 7, 7, 32)          0         \n",
      "_________________________________________________________________\n",
      "flatten_2 (Flatten)          (None, 1568)              0         \n",
      "_________________________________________________________________\n",
      "dense_3 (Dense)              (None, 128)               200832    \n",
      "_________________________________________________________________\n",
      "dense_4 (Dense)              (None, 10)                1290      \n",
      "_________________________________________________________________\n",
      "softmax_2 (Softmax)          (None, 10)                0         \n",
      "=================================================================\n",
      "Total params: 211,690\n",
      "Trainable params: 211,690\n",
      "Non-trainable params: 0\n",
      "_________________________________________________________________\n"
     ]
    }
   ],
   "source": [
    "model.compile(optimizer='adam', loss='categorical_crossentropy', metrics=['accuracy'])\n",
    "model.summary()"
   ]
  },
  {
   "cell_type": "code",
   "execution_count": 12,
   "metadata": {
    "scrolled": true
   },
   "outputs": [
    {
     "name": "stdout",
     "output_type": "stream",
     "text": [
      "Train on 60000 samples, validate on 10000 samples\n",
      "Epoch 1/10\n",
      "60000/60000 [==============================] - 18s 294us/step - loss: 0.2238 - acc: 0.9153 - val_loss: 0.2997 - val_acc: 0.8913\n",
      "Epoch 2/10\n",
      "60000/60000 [==============================] - 18s 298us/step - loss: 0.1992 - acc: 0.9249 - val_loss: 0.3031 - val_acc: 0.8960\n",
      "Epoch 3/10\n",
      "60000/60000 [==============================] - 18s 296us/step - loss: 0.1756 - acc: 0.9332 - val_loss: 0.3488 - val_acc: 0.8913\n",
      "Epoch 4/10\n",
      "60000/60000 [==============================] - 18s 296us/step - loss: 0.1605 - acc: 0.9388 - val_loss: 0.2966 - val_acc: 0.9048\n",
      "Epoch 5/10\n",
      "60000/60000 [==============================] - 18s 302us/step - loss: 0.1440 - acc: 0.9461 - val_loss: 0.3284 - val_acc: 0.9022\n",
      "Epoch 6/10\n",
      "60000/60000 [==============================] - 18s 301us/step - loss: 0.1311 - acc: 0.9509 - val_loss: 0.3573 - val_acc: 0.8994\n",
      "Epoch 7/10\n",
      "60000/60000 [==============================] - 18s 307us/step - loss: 0.1182 - acc: 0.9564 - val_loss: 0.3606 - val_acc: 0.9011\n",
      "Epoch 8/10\n",
      "60000/60000 [==============================] - 19s 313us/step - loss: 0.1126 - acc: 0.9585 - val_loss: 0.3628 - val_acc: 0.9024\n",
      "Epoch 9/10\n",
      "60000/60000 [==============================] - 19s 320us/step - loss: 0.0991 - acc: 0.9623 - val_loss: 0.4500 - val_acc: 0.8963\n",
      "Epoch 10/10\n",
      "60000/60000 [==============================] - 19s 312us/step - loss: 0.0915 - acc: 0.9660 - val_loss: 0.4452 - val_acc: 0.8996\n"
     ]
    },
    {
     "data": {
      "text/plain": [
       "<keras.callbacks.History at 0x7fdaa43e6470>"
      ]
     },
     "execution_count": 12,
     "metadata": {},
     "output_type": "execute_result"
    }
   ],
   "source": [
    "model.fit(x=x_train, y=y_train, batch_size=64, epochs=10, validation_data=(x_test, y_test))"
   ]
  },
  {
   "cell_type": "code",
   "execution_count": null,
   "metadata": {},
   "outputs": [],
   "source": []
  }
 ],
 "metadata": {
  "kernelspec": {
   "display_name": "Python 3",
   "language": "python",
   "name": "python3"
  },
  "language_info": {
   "codemirror_mode": {
    "name": "ipython",
    "version": 3
   },
   "file_extension": ".py",
   "mimetype": "text/x-python",
   "name": "python",
   "nbconvert_exporter": "python",
   "pygments_lexer": "ipython3",
   "version": "3.5.2"
  }
 },
 "nbformat": 4,
 "nbformat_minor": 2
}
